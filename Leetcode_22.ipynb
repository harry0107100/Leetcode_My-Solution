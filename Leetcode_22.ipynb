{
 "cells": [
  {
   "cell_type": "code",
   "execution_count": 13,
   "metadata": {},
   "outputs": [],
   "source": [
    "class Solution:\n",
    "    def generateParenthesis(self, n: int):\n",
    "        res = []\n",
    "        def helper(s = '', left = 0, right = 0):\n",
    "            if len(s) == 2*n:\n",
    "                res.append(s)\n",
    "                return \n",
    "            if left < n:\n",
    "                print('left:', s)\n",
    "                helper(s+'(', left+1, right)\n",
    "            if right < left:\n",
    "                print('right:', s)\n",
    "                helper(s+')', left, right+1)\n",
    "        helper()\n",
    "        return res"
   ]
  },
  {
   "cell_type": "code",
   "execution_count": 14,
   "metadata": {},
   "outputs": [
    {
     "name": "stdout",
     "output_type": "stream",
     "text": [
      "left: \n",
      "left: (\n",
      "right: ((\n",
      "right: (()\n",
      "right: (\n",
      "left: ()\n",
      "right: ()(\n"
     ]
    },
    {
     "data": {
      "text/plain": [
       "['(())', '()()']"
      ]
     },
     "execution_count": 14,
     "metadata": {},
     "output_type": "execute_result"
    }
   ],
   "source": [
    "Solution().generateParenthesis(2)"
   ]
  },
  {
   "cell_type": "code",
   "execution_count": null,
   "metadata": {},
   "outputs": [],
   "source": []
  }
 ],
 "metadata": {
  "kernelspec": {
   "display_name": "Python 3",
   "language": "python",
   "name": "python3"
  },
  "language_info": {
   "codemirror_mode": {
    "name": "ipython",
    "version": 3
   },
   "file_extension": ".py",
   "mimetype": "text/x-python",
   "name": "python",
   "nbconvert_exporter": "python",
   "pygments_lexer": "ipython3",
   "version": "3.6.8"
  }
 },
 "nbformat": 4,
 "nbformat_minor": 2
}
